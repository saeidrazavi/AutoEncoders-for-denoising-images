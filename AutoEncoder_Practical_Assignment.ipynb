{
  "nbformat": 4,
  "nbformat_minor": 0,
  "metadata": {
    "colab": {
      "provenance": []
    },
    "kernelspec": {
      "name": "python3",
      "display_name": "Python 3"
    },
    "language_info": {
      "name": "python"
    }
  },
  "cells": [
    {
      "cell_type": "markdown",
      "source": [
        "1. Download the MNIST dataset and create a dataloader that adds gaussian noise to the input images.\n",
        "2. Design and train an AutoEncoder on the MNIST dataset to denoise the noisy images.\n",
        "3. Randomly choose one image for each digit and visualize the initial images and their corresponding noisy images and decoded images side by side.\n",
        "4. Compute latent feature vectors of images. (The output of the encoder network)\n",
        "5. Use PCA to reduce the dimensionality of latent features to 2 and visualize the data points in a scatter plot. Use a different color for each digit.\n",
        "6. Repeat the previous step with TSNE.\n",
        "7. What do you conclude from steps 4 and 5 about the learned latent representation of the data?\n",
        "\n",
        "Bonus:\n",
        "1. Create a data loader that rotates input images with a random degree.\n",
        "2. Design and train a Variational AutoEncoder that gets rotated images as input and outputs an image so that the digit in the image would become horizontal.\n",
        "\n",
        "Useful links:\n",
        "- [AE](https://medium.com/@AnasBrital98/autoencoders-explained-da131e60e02a)\n",
        "- [VAE](https://towardsdatascience.com/understanding-variational-autoencoders-vaes-f70510919f73)\n",
        "- [PCA](https://towardsdatascience.com/the-most-gentle-introduction-to-principal-component-analysis-9ffae371e93b#:~:text=From%20Wikipedia%2C%20PCA%20is%20a,find%20unmeasured%20%E2%80%9Clatent%20variables%E2%80%9D.)\n",
        "- [T-SNE](https://towardsdatascience.com/t-sne-clearly-explained-d84c537f53a)"
      ],
      "metadata": {
        "id": "UpqOZ2JemP0B"
      }
    },
    {
      "cell_type": "code",
      "source": [],
      "metadata": {
        "id": "KgcUlXkWMk89"
      },
      "execution_count": null,
      "outputs": []
    }
  ]
}